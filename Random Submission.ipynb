{
 "cells": [
  {
   "cell_type": "markdown",
   "metadata": {},
   "source": [
    "![CrowdAI-Logo](https://github.com/crowdAI/crowdai/raw/master/app/assets/images/misc/crowdai-logo-smile.svg?sanitize=true)\n",
    "\n",
    "# Mapping Challenge (Random Submission)\n",
    "**Author** : [Sharada Mohanty](mailto:sharada.mohanty@epfl.ch)\n",
    "\n"
   ]
  },
  {
   "cell_type": "code",
   "execution_count": 40,
   "metadata": {},
   "outputs": [],
   "source": [
    "import random\n",
    "import json\n",
    "import numpy as np\n",
    "import argparse\n",
    "import base64"
   ]
  },
  {
   "cell_type": "code",
   "execution_count": 27,
   "metadata": {},
   "outputs": [],
   "source": [
    "# Configuration Variables\n",
    "IMAGE_WIDTH = 300\n",
    "IMAGE_HEIGHT = 300\n",
    "padding = 50\n",
    "SEGMENTATION_LENGTH = 10\n",
    "MAX_NUMBER_OF_ANNOTATIONS = 10"
   ]
  },
  {
   "cell_type": "code",
   "execution_count": 62,
   "metadata": {},
   "outputs": [],
   "source": [
    "# Helper functions\n",
    "def bounding_box_from_points(points):\n",
    "    \"\"\"\n",
    "        This function only supports the `poly` format.\n",
    "    \"\"\"\n",
    "    points = np.array(points).flatten()\n",
    "    even_locations = np.arange(points.shape[0]/2) * 2\n",
    "    odd_locations = even_locations + 1\n",
    "    X = np.take(points, even_locations.tolist())\n",
    "    Y = np.take(points, odd_locations.tolist())\n",
    "    bbox = [X.min(), Y.min(), X.max()-X.min(), Y.max()-Y.min()]\n",
    "    bbox = [int(b) for b in bbox]\n",
    "    return bbox"
   ]
  },
  {
   "cell_type": "markdown",
   "metadata": {},
   "source": [
    "# Submission Format\n",
    "\n",
    "The grader expects you to submit a JSON file which is a list of multiple `annotation` objects.\n",
    "\n",
    "A single annotation object has the following structure :\n",
    "\n",
    "```javascript\n",
    "annotation = {\n",
    "    \"image_id\" : 13452,\n",
    "    \"category_id\" : 100,\n",
    "    \"bbox\" : [32,32,62,62],\n",
    "    \"segmentation\" : [[\n",
    "             94,\n",
    "             78,\n",
    "             32,\n",
    "             78,\n",
    "             32,\n",
    "             25,\n",
    "             94,\n",
    "             25,\n",
    "             94,\n",
    "             78\n",
    "          ]],\n",
    "    \"score\" : 0.86          \n",
    "}\n",
    "```\n",
    "where all the parameters have the same meaning as explained in the [Parsing Annotations](https://github.com/crowdAI/mapping-challenge-starter-kit/blob/master/Dataset%20Utils.ipynb) section. The only new key is the `score` key, which represents your confidence in the said annotation. You can submit upto 100 such annotations for every image in the test set.\n",
    "\n",
    "The final submitted JSON will have the following structure : \n",
    "```json\n",
    "predictions = [annotation_1, annotation_2, annotation_3, annotation_4, ...]\n",
    "```\n",
    "\n",
    "## Generate a random segmentation\n",
    "Now lets begin by trying to define a function which can provide us a single segmentation object given an image :\n"
   ]
  },
  {
   "cell_type": "code",
   "execution_count": 63,
   "metadata": {},
   "outputs": [],
   "source": [
    "def single_segmentation(image_width, image_height, number_of_points=10):\n",
    "    points = []\n",
    "    for k in range(number_of_points):\n",
    "        # Choose a random x-coordinate\n",
    "        random_x = int(random.randint(0, image_width))\n",
    "        # Choose a random y-coordinate\n",
    "        random_y = int(random.randint(0, image_height))\n",
    "        #Flatly append them to the list of points\n",
    "        points.append(random_x)\n",
    "        points.append(random_y)\n",
    "    return [points]"
   ]
  },
  {
   "cell_type": "markdown",
   "metadata": {},
   "source": [
    "## Generate a random annotation object\n",
    "Now we can try to define a function which can generate a single annotation object as expected by the grader :"
   ]
  },
  {
   "cell_type": "code",
   "execution_count": 64,
   "metadata": {},
   "outputs": [],
   "source": [
    "def single_annotation(image_id, number_of_points=10):\n",
    "    _result = {}\n",
    "    _result[\"image_id\"] = image_id\n",
    "    _result[\"category_id\"] = 100 # as 100 is the category_id of Building\n",
    "    _result[\"score\"] = np.random.rand() # a random score between 0 and 1\n",
    "    \n",
    "    _result[\"segmentation\"] = single_segmentation(IMAGE_WIDTH, IMAGE_HEIGHT, number_of_points=number_of_points)\n",
    "    _result[\"bbox\"] = bounding_box_from_points(_result[\"segmentation\"])\n",
    "    return _result"
   ]
  },
  {
   "cell_type": "code",
   "execution_count": 65,
   "metadata": {},
   "outputs": [
    {
     "data": {
      "text/plain": [
       "{'bbox': [2, 4, 297, 157],\n",
       " 'category_id': 100,\n",
       " 'image_id': 1009,\n",
       " 'score': 0.752167211952941,\n",
       " 'segmentation': [[298,\n",
       "   149,\n",
       "   193,\n",
       "   140,\n",
       "   299,\n",
       "   26,\n",
       "   225,\n",
       "   161,\n",
       "   102,\n",
       "   49,\n",
       "   194,\n",
       "   16,\n",
       "   274,\n",
       "   78,\n",
       "   2,\n",
       "   151,\n",
       "   163,\n",
       "   13,\n",
       "   89,\n",
       "   4]]}"
      ]
     },
     "execution_count": 65,
     "metadata": {},
     "output_type": "execute_result"
    }
   ],
   "source": [
    "single_annotation(1009)"
   ]
  },
  {
   "cell_type": "markdown",
   "metadata": {},
   "source": [
    "## Generate a results object\n",
    "\n",
    "Now, we will try to use the functions created above to create a random number of annotations for all the images in the test set.   \n",
    "\n",
    "We know that the test set has a total of `60697` images, and their image_ids are sequentially numbered.\n",
    "so we can basically generate all the image_ids in the test set by doing : \n",
    "```python\n",
    "IMAGE_IDS = list(range(60697)) \n",
    "```"
   ]
  },
  {
   "cell_type": "code",
   "execution_count": 66,
   "metadata": {},
   "outputs": [],
   "source": [
    "IMAGE_IDS = list(range(60697)) \n"
   ]
  },
  {
   "cell_type": "markdown",
   "metadata": {},
   "source": [
    "Now we iterate over all the `image_ids`, generate an arbitrary number of annotations for every image, and create a final results object."
   ]
  },
  {
   "cell_type": "code",
   "execution_count": 67,
   "metadata": {},
   "outputs": [],
   "source": [
    "predictions = []\n",
    "for image_id in IMAGE_IDS:\n",
    "    number_of_annotations = random.randint(0, MAX_NUMBER_OF_ANNOTATIONS)\n",
    "    for _idx in range(number_of_annotations):\n",
    "        _annotation = single_annotation(image_id)\n",
    "        predictions.append(_annotation)"
   ]
  },
  {
   "cell_type": "markdown",
   "metadata": {},
   "source": [
    "## Write the results object"
   ]
  },
  {
   "cell_type": "code",
   "execution_count": 71,
   "metadata": {},
   "outputs": [],
   "source": [
    "import json\n",
    "fp = open(\"predictions.json\", \"w\")\n",
    "fp.write(json.dumps(predictions))\n",
    "fp.close()"
   ]
  },
  {
   "cell_type": "markdown",
   "metadata": {},
   "source": [
    "# Submit to crowdAI for grading\n",
    "\n",
    "**Note** Please do remember to replace `\"YOUR CROWDAI API KEY HERE\"` with your crowdAI API Key from     \n",
    "`https://www.crowdai.org/participants/<your-crowdai-username>`"
   ]
  },
  {
   "cell_type": "code",
   "execution_count": null,
   "metadata": {},
   "outputs": [],
   "source": [
    "!pip install -U crowdai"
   ]
  },
  {
   "cell_type": "code",
   "execution_count": null,
   "metadata": {},
   "outputs": [],
   "source": [
    "import crowdai\n",
    "api_key = \"YOUR CROWDAI API KEY HERE\"\n",
    "\n",
    "challenge = crowdai.Challenge(\"crowdAIMappingChallenge\", api_key)\n",
    "result = challenge.submit(\"predictions.json\")\n",
    "print(result)"
   ]
  },
  {
   "cell_type": "code",
   "execution_count": null,
   "metadata": {},
   "outputs": [],
   "source": []
  }
 ],
 "metadata": {
  "kernelspec": {
   "display_name": "Python 3",
   "language": "python",
   "name": "python3"
  },
  "language_info": {
   "codemirror_mode": {
    "name": "ipython",
    "version": 3
   },
   "file_extension": ".py",
   "mimetype": "text/x-python",
   "name": "python",
   "nbconvert_exporter": "python",
   "pygments_lexer": "ipython3",
   "version": "3.5.4"
  },
  "toc": {
   "nav_menu": {},
   "number_sections": true,
   "sideBar": true,
   "skip_h1_title": false,
   "title_cell": "Table of Contents",
   "title_sidebar": "Contents",
   "toc_cell": false,
   "toc_position": {
    "height": "calc(100% - 180px)",
    "left": "10px",
    "top": "150px",
    "width": "196px"
   },
   "toc_section_display": true,
   "toc_window_display": true
  }
 },
 "nbformat": 4,
 "nbformat_minor": 2
}
